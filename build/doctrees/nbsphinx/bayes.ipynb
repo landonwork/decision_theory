{
 "cells": [
  {
   "cell_type": "markdown",
   "id": "d4f66bdb-1b8f-4f36-ba27-89a48104e382",
   "metadata": {},
   "source": [
    "# Bayesian Inference\n",
    "## Bayes' Rule"
   ]
  },
  {
   "cell_type": "markdown",
   "id": "37cc6054-d34e-4409-9865-d7297b611c5d",
   "metadata": {},
   "source": [
    "Bayes' Rule is a wonderful piece of math that every decision-maker should have a conceptual grasp of at the least. It is the heart of subjective probability and essentially defines a method of updating our beliefs in light of new evidence. Every one of us uses it in our daily lives without ever knowing it and it looks like this:\n",
    "\n",
    "$$P(A|B) = \\frac{P(B|A)\\cdot P(A)}{P(B)}$$\n",
    "\n",
    "$$\\text{Posterior} = \\frac{\\text{Likelihood } \\cdot \\text{ Prior}}{\\text{Evidence}}$$"
   ]
  },
  {
   "cell_type": "markdown",
   "id": "6b9c761b-3275-4069-9de7-d2bdcf348f1d",
   "metadata": {},
   "source": [
    "In plain English, Bayes' Rule tells us how strong our belief is in $A$ after observing new evidence $B$. To go more in depth let us define some more terms.\n",
    "\n",
    "* prior - our prior or initial belief that $A$ is true\n",
    "* evidence - the total probability of observing $B$ in an experiment\n",
    "* likelihood - the probability of observing $B$ if $A$ is in fact true\n",
    "* posterior - our belief in $A$ after considering the evidence"
   ]
  },
  {
   "cell_type": "markdown",
   "id": "47c4999f-dc0f-4f4f-b63c-1d01508121fc",
   "metadata": {},
   "source": [
    "## A Young Example"
   ]
  },
  {
   "cell_type": "markdown",
   "id": "c254d1ed-c6f6-4842-8e33-6aa55140b8ad",
   "metadata": {},
   "source": [
    "As a story example, imagine a middle school student who is trying to make friends with another popular student. They may not feel comfortable asking right out if the popular one considers them a friend, but they can gather information from their interactions at school. They honestly believe there is a chance that the popular student considers them a friend.\n",
    "\n",
    "Let's say the popular student is going to have a party in the near future. One indicator that they consider our protagonist to be a friend would be if they invite them to this party. If they do consider them a friend it is likely but not guaranteed that they would invite them to this party. Perhaps only family or their closest friends are invited, or perhaps they invite everyone in their class. In contrast, even if the popular student does not consider them to be friends, they may still invite the protagonist to the party.\n",
    "In the case that they are invited to the party, the likelihood and the evidence are both relatively large so the protagonist's posterior belief could be similar to their prior belief.\n",
    "\n",
    "Now what if the popular student were to invite them to sit together at lunch? First, our protagonist would find this event nearly impossible. However, it is much more probable if they really are friends. With a likelihood that is much larger in proportion to the evidence, our protagonist's posterior belief would be much stronger than their prior belief."
   ]
  },
  {
   "cell_type": "markdown",
   "id": "1973380b-e5f4-49f6-8ae1-bf877bb7ad32",
   "metadata": {},
   "source": [
    "## A Discrete Case"
   ]
  },
  {
   "cell_type": "code",
   "execution_count": null,
   "id": "74225397-aebf-43f2-aead-d468c7b218d7",
   "metadata": {},
   "outputs": [],
   "source": []
  }
 ],
 "metadata": {
  "kernelspec": {
   "display_name": "Python 3 (ipykernel)",
   "language": "python",
   "name": "python3"
  },
  "language_info": {
   "codemirror_mode": {
    "name": "ipython",
    "version": 3
   },
   "file_extension": ".py",
   "mimetype": "text/x-python",
   "name": "python",
   "nbconvert_exporter": "python",
   "pygments_lexer": "ipython3",
   "version": "3.8.10"
  }
 },
 "nbformat": 4,
 "nbformat_minor": 5
}
