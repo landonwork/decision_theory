{
 "cells": [
  {
   "cell_type": "markdown",
   "id": "38239ed1-d64b-4229-a7ac-8166ad147668",
   "metadata": {},
   "source": [
    "# Decision Theory - Course Overview\n"
   ]
  },
  {
   "cell_type": "markdown",
   "id": "70707fca-3f34-450a-9a98-cc447c0b70fa",
   "metadata": {
    "tags": []
   },
   "source": [
    "## Welcome to the Course!\n"
   ]
  },
  {
   "cell_type": "markdown",
   "id": "f1739f05-455c-4c76-b690-805447f77202",
   "metadata": {},
   "source": [
    "**Welcome, all!**\n",
    "\n",
    "This is a course made for anyone who has to make decisions under uncertainty in their daily lives, namely everyone. The goal is simple. To turn normally complaex probabilistic problems into simple, easy-to-understand coding problems. By the time the course is finished being written, it should enable anyone with some probability and coding background to represent the probability of desired or undesired outcomes depending and the decisions we can make, as well as different approaches to using this new information.\n"
   ]
  },
  {
   "cell_type": "markdown",
   "id": "18b65d2b-c6dc-4b5d-8869-32536e2c9baa",
   "metadata": {},
   "source": [
    "Due to the ubiquity of uncertainty and omnipresent decisions in our lives, this course can and should be perused--if not scoured--for personal gain by everyone. If I may break from third person perspective for a moment, I am not a professor or otherwise incentivized to sound extra smart. I am a graduate student in Data Science who is trying to take advantage of his mentor and learn about a subject that he could otherwise receive no instruction on. At the end of my independent study, I will receive a grade, so I have to keep my tone professional and present accurate and useful information that demonstrates my understanding. However, I don't care as much about the grade as I do about learning this properly and I know if I cannot present it simply, I do not understand the subject deeply enough.\n",
    "\n",
    "Let me also make a note that the easiest way to navigate the course will be to use the sidebar on the left. I am using a Python package called Sphinx to create this course. This is the simplest way I knew how to create this course. Sorry for any inconvenience. :)"
   ]
  },
  {
   "cell_type": "markdown",
   "id": "397764e2-3070-45e1-a41c-f9231d2e9067",
   "metadata": {},
   "source": [
    "The point is, this course (which is expected to be finished by December 2021 and polished by May 2022) is designed for anyone to read and understand. The principles of decision theory are based on rationality; that is, making decisions the way someone would expect themself to if they were to use all the information they were provided and keep their ultimate goals in mind. Much of the initial conversation in the course will be explained in a way that requires little to no knowledge of mathematics or probability. The examples contain math and probability but they should by no means be necessary to understand the concepts. Later, there will be examples that focus much more on the programming behind the practical application"
   ]
  },
  {
   "cell_type": "markdown",
   "id": "43ab8825-51d0-4fda-b897-49f06468d7b0",
   "metadata": {},
   "source": [
    "## Summary\n"
   ]
  },
  {
   "cell_type": "markdown",
   "id": "4beddfb6-4ff9-47c3-9e73-de3b0e1d0f6c",
   "metadata": {},
   "source": [
    "The Decision Theory course should give mention to the many authors and works that it draws inspiration from. Firstly, it covers the discussion and key points in *Decision Theory - Principles and Approaches* by Giovanni Parmigiani and Lurdes Inoue. It also draws from *Elementary Decision Theory* by ___these guys___. When we get to the more technical examples, the course will introduce example problems from *Introduction to Modern Bayesian Econometrics* by Lancaster and *Probability Models for Economic Decisions* by Myerson and Zambrano.\n"
   ]
  },
  {
   "cell_type": "markdown",
   "id": "3eaf637f-8cf7-4891-9448-0fa43de7ba69",
   "metadata": {},
   "source": [
    "The order of the material will be:\n"
   ]
  },
  {
   "cell_type": "markdown",
   "id": "29c80100-b35a-40af-943b-3d4e686bc40d",
   "metadata": {},
   "source": [
    "1. Introduction\n",
    "\n",
    "2. Principles of Decision-Making\n",
    "\n",
    "    1. Dutch Book Theorem\n",
    "\n",
    "3. Discussing and Visualizing data\n",
    "    \n",
    "4.  Probability\n",
    "    \n",
    "    1. Independent random variables\n",
    "    \n",
    "    2. Probability density functions\n",
    "    \n",
    "    3. Correlation and Multivariate Normally Distributed Variables\n",
    "    \n",
    "    4. States of Nature\n",
    "    \n",
    "    5. Samples and populations\n",
    "    \n",
    "    6. Conditional Expectation\n",
    "    \n",
    "5. Bayesian Statistics\n",
    "\n",
    "    1. Bayes’ Rule\n",
    "\n",
    "    2. Likelihood\n",
    "    \n",
    "    3. Prior\n",
    "    \n",
    "    4. Posterior\n",
    "    \n",
    "    5. Inference\n",
    "    \n",
    "    6. Point Estimation\n",
    "    \n",
    "    7. Confidence Intervals\n",
    "    \n",
    "    8. Hypothesis Testing\n",
    "    \n",
    "6. Utility Theory\n",
    "\n",
    "    1. Utility Functions\n",
    "    \n",
    "    2. St. Petersburg “Paradox”\n",
    "    \n",
    "    3. Optimization\n",
    "    \n",
    "    4. Risk Sharing and Finance\n",
    "\n",
    "7. Simulation\n",
    "\n",
    "    1. Risks of Using Models\n",
    "\n",
    "    2. Traditional Simulation\n",
    "    \n",
    "    3. Dynamic Models\n",
    "    \n",
    "        1. Markov Chains and MCMC\n",
    "\n",
    "        2. Thompson Sampling\n"
   ]
  },
  {
   "cell_type": "code",
   "execution_count": null,
   "id": "8f83d819-b038-4646-800b-8dfcc41a47c8",
   "metadata": {},
   "outputs": [],
   "source": []
  }
 ],
 "metadata": {
  "kernelspec": {
   "display_name": "Python 3 (ipykernel)",
   "language": "python",
   "name": "python3"
  },
  "language_info": {
   "codemirror_mode": {
    "name": "ipython",
    "version": 3
   },
   "file_extension": ".py",
   "mimetype": "text/x-python",
   "name": "python",
   "nbconvert_exporter": "python",
   "pygments_lexer": "ipython3",
   "version": "3.8.10"
  }
 },
 "nbformat": 4,
 "nbformat_minor": 5
}
