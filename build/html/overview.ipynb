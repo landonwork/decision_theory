{
 "cells": [
  {
   "cell_type": "markdown",
   "id": "38239ed1-d64b-4229-a7ac-8166ad147668",
   "metadata": {},
   "source": [
    "# Decision Theory - Course Overview\n"
   ]
  },
  {
   "cell_type": "markdown",
   "id": "70707fca-3f34-450a-9a98-cc447c0b70fa",
   "metadata": {
    "tags": []
   },
   "source": [
    "## Welcome to the Course!\n"
   ]
  },
  {
   "cell_type": "markdown",
   "id": "f1739f05-455c-4c76-b690-805447f77202",
   "metadata": {},
   "source": [
    "**Welcome, all!**\n",
    "\n",
    "This is a course made for anyone who has to make decisions under uncertainty in their daily lives, namely everyone. The concepts should be useful to anyone who experiences risk, but the practical application is designed for those who will make decisions for their business or place of employment. The goal is simple. To turn normally complex probabilistic problems into easy-to-understand coding problems. It should enable anyone with some probability and coding knowledge (especially Python 3) to represent the probability of desired or undesired outcomes and the decisions we can make, as well as understand different approaches to using this new information.\n"
   ]
  },
  {
   "cell_type": "markdown",
   "id": "18b65d2b-c6dc-4b5d-8869-32536e2c9baa",
   "metadata": {},
   "source": [
    "This course will take you through how to manage risk based on probable outcomes of different decisions. First, we will discuss what risk is and cover the basic concepts of probability which is the base of statistics, and utility and loss which decision theory uses to evaluate outcomes. From there, we will cover probabilistic problems using coding, starting with simulation, the Thompson sampling, and Monte-Carlo Markov Chains (MCMC). There will be simple code snippets in the early sections with more programming and techniques as the course goes on. The easiest way to navigate the course will be to use the sidebar on the left."
   ]
  },
  {
   "cell_type": "markdown",
   "id": "b96eff30-9a75-4e65-a6c1-aa25661841ab",
   "metadata": {},
   "source": [
    "Recommended resources:\n",
    "\n",
    "    * Probability (TODO: link)\n",
    "    * Anaconda Python (TODO: link)\n",
    "    * scikit-learn (TODO: link)\n",
    "    * numpy (TODO: link)\n",
    "    * matplotlib (TODO: link)\n",
    "    * PyMC3 (TODO: link)"
   ]
  },
  {
   "cell_type": "markdown",
   "id": "6696e9e9-bd92-427b-b32e-3eba0a87890d",
   "metadata": {},
   "source": [
    "The link for all the source code will go *here* (TODO)"
   ]
  },
  {
   "cell_type": "code",
   "execution_count": null,
   "id": "1cf577f8-d2ff-4c20-9657-27b891d18498",
   "metadata": {},
   "outputs": [],
   "source": []
  }
 ],
 "metadata": {
  "kernelspec": {
   "display_name": "Python 3 (ipykernel)",
   "language": "python",
   "name": "python3"
  },
  "language_info": {
   "codemirror_mode": {
    "name": "ipython",
    "version": 3
   },
   "file_extension": ".py",
   "mimetype": "text/x-python",
   "name": "python",
   "nbconvert_exporter": "python",
   "pygments_lexer": "ipython3",
   "version": "3.8.10"
  }
 },
 "nbformat": 4,
 "nbformat_minor": 5
}
