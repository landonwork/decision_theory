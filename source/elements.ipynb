{
 "cells": [
  {
   "cell_type": "markdown",
   "metadata": {},
   "source": [
    "# An Introduction to Decision Theory"
   ]
  },
  {
   "cell_type": "markdown",
   "metadata": {},
   "source": [
    "Imagine you have an electrical contractor who has to decide how to wire new houses. They have options of 15, 20, and 30-amp wire. The higher the capacity of the wire, the more expensive it is for them. However, should the family moving into the new house ever exceed the rating of the wire, it will cause burnouts and they will have to eat the cost of rewiring the house. It will also damage their relationship with their business partners to have families constantly complaining about their work."
   ]
  },
  {
   "cell_type": "markdown",
   "metadata": {},
   "source": [
    "Taking this information, they construct a table with the loss that their business would experience depending on their actions and the peak amperage of a particular family. Columns represent the set of actions available to the electrical contractor, $A$. Rows represent the set of possible states of nature that a particular family can have, $\\theta$.\n",
    "\n",
    "#### Loss Table\n",
    "| | | Actions | |\n",
    "|:-----------:|:------------:|:--:|:--:|\n",
    "| States of Nature | 15-amp wire | 20-amp wire | 30-amp wire |\n",
    "| 15-amp peak | 1 | 2 | 3 |\n",
    "| 20-amp peak | 5 | 2 | 3 |\n",
    "| 30-amp peak | 7 | 5 | 3 |"
   ]
  },
  {
   "cell_type": "code",
   "execution_count": 57,
   "metadata": {},
   "outputs": [],
   "source": [
    "import numpy as np\n",
    "loss = np.array([\n",
    "    [1, 2, 3],\n",
    "    [5, 2, 3],\n",
    "    [7, 6, 3]\n",
    "])"
   ]
  },
  {
   "cell_type": "markdown",
   "metadata": {},
   "source": [
    "After deciding on the cost of each possible outcome, the contractor decides they can reduce the amount of risk they take on by giving families questionnaires. Suppose that the contractor asks each family to read the following question and check exactly one answer.\n",
    "\n",
    "*How much electricity would you say your family draws on average?*\n",
    "* 10-amp _____\n",
    "* 12-amp _____\n",
    "* 15-amp _____\n",
    "* 20-amp _____"
   ]
  },
  {
   "cell_type": "markdown",
   "metadata": {},
   "source": [
    "After doing this for some time, the electrical contractor learns the approximate frequency of a family's answer depending on  their peak amperage.\n",
    "\n",
    "#### Conditional Probability of Questionnaire Answers Given State of Nature\n",
    "| | | Questionnaire Outcomes | | |\n",
    "|----|--------|--------|--------|--------|\n",
    "| States of Nature | 10-amp answer | 12-amp answer | 15-amp answer | 20-amp answer\n",
    "| 15-amp peak | 1/2 | 1/2 | 0 | 0 |\n",
    "| 20-amp peak | 0 | 1/2 | 1/2 | 0 |\n",
    "| 30-amp peak | 0 | 0 | 1/3 | 2/3 |\n",
    "\n",
    "Notice that each row is a conditional distribution that sums to 1,  the probability of a family answering a certain way given their state of nature."
   ]
  },
  {
   "cell_type": "code",
   "execution_count": 58,
   "metadata": {},
   "outputs": [],
   "source": [
    "# They call this the \"frequency of response table\"\n",
    "x_given_theta = np.array([\n",
    "    [1/2, 1/2, 0,   0],\n",
    "    [0,   1/2, 1/2, 0],\n",
    "    [0,   0,   1/3, 2/3]\n",
    "]) # P(theta|x)"
   ]
  },
  {
   "cell_type": "markdown",
   "metadata": {},
   "source": [
    "The electrical contractor now has a tool to acquire information so they can determine the best action given the result of the family's questionnaire. In other words, depending on family's answer, the contractor can make some statement about the expected peak consumption of the family and what they might expect to lose for any action they take. The contractor may select any action, but through experience and preference eventually they will likely settle on a specific *strategy*, a permutation of actions to perform according to the family's questionnaire result.\n",
    "\n",
    "In this case, there are 4 possible outcomes to the experiment and 4 possible actions to take for each outcome which leads to 16 total possible strategies. The set of strategies will be notated as $S$. These will be written as $s = (a_i, a_j, a_k, a_l)$. For example, $s1 = (15,15,20,30)$ is notation for Strategy 1 which is:\n",
    "* When the family responds with 10-amp average, wire the house with 15-amp wire\n",
    "* When the family responds with 12-amp average, wire the house with 15-amp wire\n",
    "* When the family responds with 15-amp average, wire the house with 20-amp wire\n",
    "* When the family responds with 20-amp average, wire the house with 30-amp wire\n",
    "\n",
    "In contrast, $s2 = (30,30,20,15)$ tells us that Strategy 2 is:\n",
    "* When the family responds with 10-amp average, wire the house with 30-amp wire\n",
    "* When the family responds with 12-amp average, wire the house with 30-amp wire\n",
    "* When the family responds with 15-amp average, wire the house with 20-amp wire\n",
    "* When the family responds with 20-amp average, wire the house with 15-amp wire"
   ]
  },
  {
   "cell_type": "code",
   "execution_count": 59,
   "metadata": {},
   "outputs": [],
   "source": [
    "strat1 = np.array([0, 0, 1, 2]) # Strategy 1 where the values represent the index of the actions\n",
    "strat2 = np.array([2, 2, 1, 0]) # Strategy 2 ..."
   ]
  },
  {
   "cell_type": "markdown",
   "metadata": {},
   "source": [
    "How can we evaluate the effectiveness of each strategy? Knowing what we do about the relationship between experiment outcomes and states of nature, the contractor should have some idea of the loss they can expect to see from each action in their strategy. For now, let us assume that the frequencies of each state of nature are equal, $\\theta = (\\frac{1}{3}, \\frac{1}{3}, \\frac{1}{3})$ and then we will determine the expected loss for each strategy given a state of nature."
   ]
  },
  {
   "cell_type": "code",
   "execution_count": 60,
   "metadata": {},
   "outputs": [
    {
     "data": {
      "text/plain": [
       "array([[1, 1, 2, 3],\n",
       "       [5, 5, 2, 3],\n",
       "       [7, 7, 6, 3]])"
      ]
     },
     "execution_count": 60,
     "metadata": {},
     "output_type": "execute_result"
    }
   ],
   "source": [
    "loss[:,strat1]"
   ]
  },
  {
   "cell_type": "code",
   "execution_count": 61,
   "metadata": {},
   "outputs": [
    {
     "data": {
      "text/plain": [
       "array([[0.5       , 0.5       , 0.        , 0.        ],\n",
       "       [0.        , 0.5       , 0.5       , 0.        ],\n",
       "       [0.        , 0.        , 0.33333333, 0.66666667]])"
      ]
     },
     "execution_count": 61,
     "metadata": {},
     "output_type": "execute_result"
    }
   ],
   "source": [
    "x_given_theta"
   ]
  },
  {
   "cell_type": "code",
   "execution_count": 62,
   "metadata": {},
   "outputs": [],
   "source": [
    "e_loss_given_theta1 = (x_given_theta * loss[:,strat1]).sum(axis=1)\n",
    "e_loss_given_theta2 = (x_given_theta * loss[:,strat2]).sum(axis=1)"
   ]
  },
  {
   "cell_type": "code",
   "execution_count": 67,
   "metadata": {},
   "outputs": [
    {
     "data": {
      "text/plain": [
       "array([1. , 3.5, 4. ])"
      ]
     },
     "execution_count": 67,
     "metadata": {},
     "output_type": "execute_result"
    }
   ],
   "source": [
    "e_loss_given_theta1"
   ]
  },
  {
   "cell_type": "code",
   "execution_count": 68,
   "metadata": {},
   "outputs": [
    {
     "data": {
      "text/plain": [
       "array([3.        , 2.5       , 6.66666667])"
      ]
     },
     "execution_count": 68,
     "metadata": {},
     "output_type": "execute_result"
    }
   ],
   "source": [
    "e_loss_given_theta2"
   ]
  },
  {
   "cell_type": "markdown",
   "metadata": {},
   "source": [
    "However, the expected total loss of a strategy is actually dependent on the frequency of the states of nature."
   ]
  },
  {
   "cell_type": "code",
   "execution_count": 69,
   "metadata": {},
   "outputs": [
    {
     "data": {
      "text/plain": [
       "(2.833333333333333, 4.055555555555555)"
      ]
     },
     "execution_count": 69,
     "metadata": {},
     "output_type": "execute_result"
    }
   ],
   "source": [
    "theta = np.array([1/3, 1/3, 1/3])\n",
    "e_total_loss1 = (e_loss_given_theta1 * theta).sum()\n",
    "e_total_loss2 = (e_loss_given_theta2 * theta).sum()\n",
    "e_total_loss1, e_total_loss2"
   ]
  },
  {
   "cell_type": "code",
   "execution_count": 70,
   "metadata": {},
   "outputs": [
    {
     "data": {
      "text/plain": [
       "(1.25, 2.95)"
      ]
     },
     "execution_count": 70,
     "metadata": {},
     "output_type": "execute_result"
    }
   ],
   "source": [
    "theta = np.array([.9, .1, 0.])\n",
    "e_total_loss1 = (e_loss_given_theta1 * theta).sum()\n",
    "e_total_loss2 = (e_loss_given_theta2 * theta).sum()\n",
    "e_total_loss1, e_total_loss2"
   ]
  },
  {
   "cell_type": "markdown",
   "metadata": {},
   "source": [
    "Explain minimax etc."
   ]
  },
  {
   "cell_type": "code",
   "execution_count": 36,
   "metadata": {},
   "outputs": [],
   "source": [
    "# Using Bayes' Rule to find expected loss given the answer to the questionnaire\n",
    "state_freq = np.array([1/3, 1/3, 1/3]).reshape((-1,1)) # P(theta)\n",
    "joint_freq = state_freq.reshape((-1,1)) * theta_given_x\n",
    "x_freq = joint_freq.sum(axis=0)\n",
    "theta_given_x = joint_freq / x_freq\n",
    "s1_loss = (theta_given_x*loss[:,s1]).sum(axis=0)\n",
    "s2_loss = (theta_given_x*loss[:,s2]).sum(axis=0)"
   ]
  },
  {
   "cell_type": "code",
   "execution_count": 71,
   "metadata": {},
   "outputs": [],
   "source": [
    "# I will add things as they become necessary"
   ]
  }
 ],
 "metadata": {
  "kernelspec": {
   "display_name": "Python 3 (ipykernel)",
   "language": "python",
   "name": "python3"
  },
  "language_info": {
   "codemirror_mode": {
    "name": "ipython",
    "version": 3
   },
   "file_extension": ".py",
   "mimetype": "text/x-python",
   "name": "python",
   "nbconvert_exporter": "python",
   "pygments_lexer": "ipython3",
   "version": "3.8.10"
  }
 },
 "nbformat": 4,
 "nbformat_minor": 4
}
