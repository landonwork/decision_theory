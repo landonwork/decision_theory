{
 "cells": [
  {
   "cell_type": "markdown",
   "id": "194620b3-6445-4086-9c6a-7019c13fca28",
   "metadata": {},
   "source": [
    "# Utility"
   ]
  },
  {
   "cell_type": "markdown",
   "id": "0443105e-95c9-403c-bf26-fcbf5f3cf03e",
   "metadata": {},
   "source": [
    "## Thought Experiment - \n",
    "\n",
    "Some examples. I can go find a simple one, but the point is"
   ]
  },
  {
   "cell_type": "markdown",
   "id": "5da2dbb2-6e6b-44b3-917f-a881f1b11213",
   "metadata": {},
   "source": [
    "## Utility Theory\n",
    "\n",
    "The above examples demonstrate how people can react to the same gamble in different ways because of personal details. Even if the expected value of a gamble is positive, the worth of that gamble will vary from person to person and even from time to time for the same person. Utility theory is a method of computing optimal decisions based on a person's willingness to accept different risks (Myerson and Zambrano, 2019). In utility theory, it is assumed that a rational decision maker has a utility function by which they judge the worth of different outcomes. In order to be useful and numerically modeled they follow a few assumptions. First, that (I don't know if I actually have to them in here...).\n",
    "\n",
    "A common way to represent a person's utility function (when different payoffs are monetary) is with a risk tolerance formula $U(x) = -e^{(-x/r)}$, where $r$ is a positive number that represents a person's risk tolerance. For simplicity, we will also assume that an individual's risk tolerance\n",
    "\n",
    "When using utility for decision making, we will want to do two things to make it useful. First, instead of calculating expected monetary value, we calculate expected utility based on the individual's utility function and the probabilities of each outcome. Second, we want to deal with numbers that have the same units, so after converting to utility, we will convert back to currency in order to find the *certainty equivalent*."
   ]
  },
  {
   "cell_type": "code",
   "execution_count": 2,
   "id": "5ef5ff75-fd08-4602-ac12-30c75ec90081",
   "metadata": {},
   "outputs": [],
   "source": [
    "import numpy as np\n",
    "def util(x, r):\n",
    "    return -np.exp(-x/r)"
   ]
  },
  {
   "cell_type": "code",
   "execution_count": 3,
   "id": "9cc3b1e0-cf41-4948-8a35-94fe6f56421d",
   "metadata": {},
   "outputs": [
    {
     "data": {
      "text/plain": [
       "-3.720075976020836e-44"
      ]
     },
     "execution_count": 3,
     "metadata": {},
     "output_type": "execute_result"
    }
   ],
   "source": [
    "util(100,1)"
   ]
  },
  {
   "cell_type": "code",
   "execution_count": 28,
   "id": "89bea76a-a47f-4121-995f-e5e8ceb7ba2a",
   "metadata": {},
   "outputs": [
    {
     "data": {
      "image/png": "[encoded data removed]",
      "text/plain": [
       "<Figure size 432x288 with 1 Axes>"
      ]
     },
     "metadata": {
      "needs_background": "light"
     },
     "output_type": "display_data"
    }
   ],
   "source": [
    "import matplotlib.pyplot as plt\n",
    "x = np.arange(-10,10,.05)\n",
    "plt.plot(x, util(x,1))\n",
    "plt.show()"
   ]
  },
  {
   "cell_type": "code",
   "execution_count": 29,
   "id": "78be318f-78b8-42f1-8f97-0e3f43892d7f",
   "metadata": {},
   "outputs": [
    {
     "data": {
      "image/png": "[encoded data removed]",
      "text/plain": [
       "<Figure size 432x288 with 1 Axes>"
      ]
     },
     "metadata": {
      "needs_background": "light"
     },
     "output_type": "display_data"
    }
   ],
   "source": [
    "plt.plot(x, util(x,10))\n",
    "plt.show()"
   ]
  },
  {
   "cell_type": "markdown",
   "id": "428ff13e-a819-452b-89f0-2ac3d48efa60",
   "metadata": {},
   "source": [
    "As you can see, the line straightens out as $r$ increases ##TODO - add axis labels##. The more tolerant a person is to risks, the closer the person's utility is to being a straight line. A person whose utility function is a perfectly straight line is a *risk-neutral* decision maker. When a person is risk neutral, they will generally accept any gamble for the fair value. For example, a gamble that has a 50\\% percent chance of paying out \\\\$2,000 and a 50\\% chance of not paying out has an expected monetary value of \\\\$1,000. ##TODO - be sure to explain expected value in the probability bit## A risk-neutral decision maker would take this gamble if they were required to pay any amount less than \\$1,000. Any amount greater and they would refuse. This is called the *certainty equivalent*, the most a decision maker would be willing to pay for a certain set of payoffs. But certainty equivalents are only interesting for decision maker's that are not risk-neutral and so we need a way to convert utility back to monetary units. For this, we reverse the operations performed on $x$ in our utility function and call the function *uinv*, short for utility inverse."
   ]
  },
  {
   "cell_type": "code",
   "execution_count": 19,
   "id": "2da36ca8-9db4-4ced-824f-d099d0197264",
   "metadata": {},
   "outputs": [
    {
     "data": {
      "text/plain": [
       "1.0"
      ]
     },
     "execution_count": 122,
     "metadata": {},
     "output_type": "execute_result"
    }
   ],
   "source": [
    "def uinv(y, r):\n",
    "    return -np.log(-y)*r\n",
    "\n",
    "uinv(util(1,1), 1)"
   ]
  },
  {
   "cell_type": "markdown",
   "id": "e1b8dbaa-b8d8-4532-a8da-9bc9a5ade7cc",
   "metadata": {},
   "source": [
    "Some special facts about our utility function is that utility will always be less than or equal to -1. Because of this, maximizing utility will be the same as bringing utility as close to zero (or making it the least negative) as possible. Also, the parameter $r$ for risk tolerance must always be positive. (If we were instead using a loss function, we would desire to make the loss as negative as possible). For simplicity's sake we will assume that risk tolerance stays the same for a person no matter what situation they are in."
   ]
  },
  {
   "cell_type": "markdown",
   "id": "bda35454-781c-4ed3-9110-fd69c7f59831",
   "metadata": {},
   "source": [
    "### Example problem"
   ]
  },
  {
   "cell_type": "markdown",
   "id": "66f7a68b-83a0-4b58-9999-ab5fad02c675",
   "metadata": {},
   "source": [
    "Suppose that for a price, You are able to participate in a gamble. With 50\\% probability the gamble will pay out \\\\$500, with 30\\% probability it will pay out \\\\$100, and with 20\\% probability you will not receive anything. If your risk tolerance is equal to 50, what is the most you would be willing to pay to take the gamble?"
   ]
  },
  {
   "cell_type": "code",
   "execution_count": 127,
   "id": "f0759680-3188-486c-8d85-2197667878cf",
   "metadata": {},
   "outputs": [],
   "source": [
    "# First, we will define a little function that will compute the expected utility\n",
    "# of a set of payoffs and their respective probabilities\n",
    "def e_util(payoffs, probs, r):\n",
    "    probs = probs/probs.sum() # This will guarantee the probability weights sum to 1\n",
    "    return (util(payoffs, r)*probs).sum()"
   ]
  },
  {
   "cell_type": "code",
   "execution_count": 130,
   "id": "58973df7-1eb4-46b6-ac62-ccc69653e636",
   "metadata": {},
   "outputs": [
    {
     "data": {
      "text/plain": [
       "71.22613507523758"
      ]
     },
     "execution_count": 130,
     "metadata": {},
     "output_type": "execute_result"
    }
   ],
   "source": [
    "# Then we find expected utility with the new function and convert to dollars\n",
    "payoffs = np.array([500, 100, 0])\n",
    "probs = np.array([0.5, 0.3, 0.2])\n",
    "r = 50\n",
    "e_u = e_util(payoffs, probs, r)\n",
    "uinv(e_u, r)"
   ]
  },
  {
   "cell_type": "markdown",
   "id": "397c3d37-2778-4bef-8955-fdb92764aa3d",
   "metadata": {},
   "source": [
    "A: $71.23"
   ]
  },
  {
   "cell_type": "markdown",
   "id": "b9285a6f-8e2d-416d-acdd-16dffe1e5594",
   "metadata": {},
   "source": [
    "## St. Petersburg Paradox"
   ]
  },
  {
   "cell_type": "markdown",
   "id": "eb63d288-a231-43ee-bd4d-e8962c43898a",
   "metadata": {},
   "source": [
    "The St. Petersbug Paradox is another way to demonstrate the diminishing marginal returns imbued n a utility function. It is a gamble with an infinite expected value. It goes like this. The initial payoff is set to $1. Then a coin is tossed until you observe heads. For every toss, the payoff is doubled. the expected payoff is calculated like this:\n",
    "\n",
    "\\begin{align}\n",
    "E(\\text{Payoff}) &= .5 * 2 + .25 * 4 + .125 * 8 + .0625 * 16 + ... \\\\ \n",
    "E(\\text{Payoff}) &= 1      + 1       + 1        + 1          + ... \\\\\n",
    "E(\\text{Payoff}) &= \\infty\n",
    "\\end{align}\n",
    "\n",
    "Because the probability of obtaining a certain number of tosses is halved for every additional tosses and the reward is doubled at each toss, this gamble has a theoretical expected payoff of infinite value. However, we can show using utility thoery that the expected payoff in a person's mind is much much less. This is because of the fact that every additional dollar a person gains provides less happiness than the additional dollar.\n",
    "\n",
    "Take the same individual that had a risk tolerance of 50. Find the utility for each possible payoff, multiply by their respective probabilities, and sum to get the certainty equivalent of this individual. Compare this to the expected monetary value and we will see that the individual's expected gain from this gamble levels off at a particular value while the expected monetary value continues to increase linearly as we continue to add terms."
   ]
  },
  {
   "cell_type": "code",
   "execution_count": 129,
   "id": "f213fa13-9a56-4d3f-937a-71c717bf4e21",
   "metadata": {},
   "outputs": [
    {
     "data": {
      "image/png": "[encoded data removed]",
      "text/plain": [
       "<Figure size 432x288 with 1 Axes>"
      ]
     },
     "metadata": {
      "needs_background": "light"
     },
     "output_type": "display_data"
    }
   ],
   "source": [
    "payoffs = np.array([2])\n",
    "probs = np.array([.5])\n",
    "r = 50\n",
    "\n",
    "emvs = []\n",
    "ces = []\n",
    "\n",
    "for _ in range(20):\n",
    "    emv = (payoffs * probs).sum() # Expected monetary value\n",
    "    ce = uinv(e_util(payoffs, probs, 50), 50) # Certainty equivalent\n",
    "    # print(emv, ce)\n",
    "    emvs.append(emv)\n",
    "    ces.append(ce)\n",
    "    \n",
    "    payoffs = np.append(payoffs, payoffs[-1]*2)\n",
    "    probs = np.append(probs, probs[-1]*0.5)\n",
    "\n",
    "plt.plot(range(20), emvs)\n",
    "plt.plot(range(20), ces)\n",
    "plt.show()"
   ]
  },
  {
   "cell_type": "code",
   "execution_count": 42,
   "id": "b7d7c5f9-f261-4853-96c2-f279ef83087a",
   "metadata": {},
   "outputs": [
    {
     "data": {
      "text/plain": [
       "6.135187043217972"
      ]
     },
     "execution_count": 42,
     "metadata": {},
     "output_type": "execute_result"
    }
   ],
   "source": [
    "ces[-1]"
   ]
  },
  {
   "cell_type": "markdown",
   "id": "5b52c8ad-428c-44e9-ba84-c34247e9bf86",
   "metadata": {},
   "source": [
    "The value of the coin toss gamble to this individual would not be infinite. Instead it would have a finite value of around \\\\$6.15. This is because even though the reward doubles with each coin flip, the utility of the outcome for this individual does not double. This will be true for any person who has a utility function of the same form."
   ]
  },
  {
   "cell_type": "markdown",
   "id": "4bd4d660-c98e-4b60-b6d6-5970b15a794f",
   "metadata": {},
   "source": [
    "I will also take this opportunity to demonstrate how powerful and applicable raw computational power is for analyzing probabilistic models like this one.\n",
    "\n",
    "The expected monetary value for this gamble *should* be infinite, but from simulated trials, the expected monetary is actually close to about \\\\$20. We can simulate this simple gamble in a small loop and calculate the average payoff to find this. For fun, we will also add in a bar chart with the frequency of the number of flips in each trial."
   ]
  },
  {
   "cell_type": "code",
   "execution_count": 44,
   "id": "c1677491-5a87-4958-8210-91f74b7cc42a",
   "metadata": {},
   "outputs": [],
   "source": [
    "np.random.seed(100)\n",
    "def coin_toss() -> str:\n",
    "    return np.random.choice(['heads','tails'])\n",
    "\n",
    "payoffs = []\n",
    "tosses = []\n",
    "\n",
    "for _ in range(100_000):\n",
    "    n_tosses = 0\n",
    "    payoff = 1\n",
    "    toss = None\n",
    "    while toss != 'heads':\n",
    "        toss = coin_toss()\n",
    "        n_tosses += 1\n",
    "        payoff *= 2\n",
    "    payoffs.append(payoff)\n",
    "    tosses.append(n_tosses)    "
   ]
  },
  {
   "cell_type": "code",
   "execution_count": 45,
   "id": "bd8c7da0-4134-4b3d-ad57-c09aed0e702d",
   "metadata": {},
   "outputs": [
    {
     "name": "stdout",
     "output_type": "stream",
     "text": [
      "26.64832\n"
     ]
    }
   ],
   "source": [
    "print(np.mean(payoffs))"
   ]
  },
  {
   "cell_type": "code",
   "execution_count": 49,
   "id": "08cb123b-64a5-49da-8c7d-1ec28d78811e",
   "metadata": {},
   "outputs": [
    {
     "data": {
      "image/png": "[encoded data removed]",
      "text/plain": [
       "<Figure size 432x288 with 1 Axes>"
      ]
     },
     "metadata": {
      "needs_background": "light"
     },
     "output_type": "display_data"
    }
   ],
   "source": [
    "count, bins, _ = plt.hist(tosses, bins=list(range(25)))"
   ]
  },
  {
   "cell_type": "code",
   "execution_count": 68,
   "id": "f2b0740d-1929-48b7-bd67-2d971dc7a8e3",
   "metadata": {},
   "outputs": [
    {
     "data": {
      "text/plain": [
       "(19, 1.0)"
      ]
     },
     "execution_count": 68,
     "metadata": {},
     "output_type": "execute_result"
    }
   ],
   "source": [
    "np.max(tosses), count[np.max(tosses)]"
   ]
  },
  {
   "cell_type": "markdown",
   "id": "92bd02b8-cab0-4893-b3c1-095d88b71fa7",
   "metadata": {},
   "source": [
    "Though it is difficult to see on the histogram, there are a few trials with over 11 coin tosses. Each of those trials would payout over \\\\$1,000. With the seed we set, we even observe one trial with *19* tosses. That's a payout of \\\\$524,288 which we have only a 1 in 524,288 chance of seeing. We were lucky to see this rare of a trial with a sample size of only 100,000. And yet, even with these ridiculous payouts, the average size of one is only \\\\$26.65. Therefore, any reasonable person would likely never pay more than this amount in order to play this game."
   ]
  },
  {
   "cell_type": "markdown",
   "id": "547aea01-98bb-4cf3-972e-473e895f2ff8",
   "metadata": {},
   "source": [
    "## Using Data to Infer Risk Tolerance"
   ]
  },
  {
   "cell_type": "markdown",
   "id": "1c904c75-012f-4d90-b092-7e390fd7690a",
   "metadata": {},
   "source": [
    "Another useful thing we can do with this is to try to infer the risk tolerance of a decision maker. This course focuses more on the how to make decisions rather than how to infer another's decision-making preferences. However, this will be a great example of probabilistic modeling with PyMC3. To learn more about this, you can go to the PyMC3 section of the course."
   ]
  },
  {
   "cell_type": "markdown",
   "id": "30e5793d-3908-4be9-9614-cfff685a1a29",
   "metadata": {},
   "source": [
    "## Examples"
   ]
  },
  {
   "cell_type": "code",
   "execution_count": null,
   "id": "447eb9e0-349e-4186-b2ca-5c376cd246ee",
   "metadata": {},
   "outputs": [],
   "source": []
  },
  {
   "cell_type": "code",
   "execution_count": null,
   "id": "d3c3503a-b4de-49b3-84b5-92b9a8b13aa0",
   "metadata": {},
   "outputs": [],
   "source": []
  },
  {
   "cell_type": "code",
   "execution_count": null,
   "id": "a88909fc-c0ae-4ea3-b4b7-a7763f5701d7",
   "metadata": {},
   "outputs": [],
   "source": []
  },
  {
   "cell_type": "markdown",
   "id": "74f6c34c-03ca-4606-b986-b9c61d67614e",
   "metadata": {},
   "source": [
    "## Alternative Utility Functions\n",
    "### Isoelastic Utility\n",
    "\n",
    "* Has a risk aversion parameter and can model risk seeking behavior (something our current utility function cannot do).\n",
    "* The isoelastic utility function has the form $u(c) = \\frac{c^{1 - \\eta} - 1}{\\eta - 1}$, where $\\eta$ is the risk aversion parameter. This is function holds except when $\\eta = 1$, in which case the function $u(c) = \\ln(c)$ is used instead."
   ]
  },
  {
   "cell_type": "markdown",
   "id": "898f6273-18dc-44c2-b736-f943f329aecb",
   "metadata": {},
   "source": [
    "### Prospect Theory and Marginal Utility\n",
    "\n",
    "* Prospect theory takes a different view of utility and assumes that decision makers choose things that give them the most utility *on the margin*. It proposes that decision makers have an internal *marginal* utility function which takes into account changes in their status quo.\n",
    "* The authors of the paper (here) suggest that the marginal utility function is much steeper on the negative side of the x-axis as opposed to the positive side. They observed that test participants were much more sensitive to losses than they were to gains of equal magnitude. They propose this assymetrical utility function for this reason.\n",
    "* They also support the idea of diminishing marginal returns (and losses) for each marginal gain or loss."
   ]
  },
  {
   "cell_type": "code",
   "execution_count": 126,
   "id": "2a640b87-f3a1-4f68-8d6e-926d0838df18",
   "metadata": {},
   "outputs": [],
   "source": [
    "def margin_util(x: np.array, a: float): # a is a person's loss aversion\n",
    "    # This is necessary but avoids printing an irrelevant warning\n",
    "    import warnings\n",
    "    warnings.simplefilter('ignore', category=RuntimeWarning)\n",
    "    \n",
    "    return np.where(x < 0.0, -a*np.sqrt(np.abs(x)), np.sqrt(x))"
   ]
  },
  {
   "cell_type": "code",
   "execution_count": 118,
   "id": "5d3aa373-71bf-4038-85ac-2b691a7b922e",
   "metadata": {},
   "outputs": [
    {
     "data": {
      "image/png": "[encoded data removed]",
      "text/plain": [
       "<Figure size 432x288 with 1 Axes>"
      ]
     },
     "metadata": {
      "needs_background": "light"
     },
     "output_type": "display_data"
    }
   ],
   "source": [
    "x = np.append(np.arange(-10,-.05,.05), np.arange(.05,10,.05))\n",
    "plt.xlim(-10,10)\n",
    "plt.ylim(-6,6)\n",
    "plt.hlines(0, -10, 10, colors='black')\n",
    "plt.vlines(0, -6, 6, colors='black')\n",
    "plt.plot(x, margin_util(x,2))\n",
    "plt.show()"
   ]
  }
 ],
 "metadata": {
  "kernelspec": {
   "display_name": "Python 3 (ipykernel)",
   "language": "python",
   "name": "python3"
  },
  "language_info": {
   "codemirror_mode": {
    "name": "ipython",
    "version": 3
   },
   "file_extension": ".py",
   "mimetype": "text/x-python",
   "name": "python",
   "nbconvert_exporter": "python",
   "pygments_lexer": "ipython3",
   "version": "3.8.10"
  }
 },
 "nbformat": 4,
 "nbformat_minor": 5
}
